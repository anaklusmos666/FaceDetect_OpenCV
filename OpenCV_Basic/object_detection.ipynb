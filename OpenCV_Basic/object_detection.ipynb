{
 "cells": [
  {
   "cell_type": "code",
   "execution_count": 11,
   "id": "f6a009ce",
   "metadata": {
    "ExecuteTime": {
     "end_time": "2023-03-19T07:19:54.064944Z",
     "start_time": "2023-03-19T07:19:54.054979Z"
    }
   },
   "outputs": [],
   "source": [
    "import cv2\n",
    "import numpy as np\n",
    "import pandas as pd\n",
    "from matplotlib import pyplot as plt"
   ]
  },
  {
   "cell_type": "code",
   "execution_count": 2,
   "id": "9efea6f4",
   "metadata": {
    "ExecuteTime": {
     "end_time": "2023-03-19T06:21:47.602562Z",
     "start_time": "2023-03-19T06:21:47.533604Z"
    }
   },
   "outputs": [],
   "source": [
    "face_cascade = cv2.CascadeClassifier('haarcascade_frontalface_default.xml')"
   ]
  },
  {
   "cell_type": "code",
   "execution_count": 12,
   "id": "e9206e36",
   "metadata": {
    "ExecuteTime": {
     "end_time": "2023-03-19T07:20:05.328110Z",
     "start_time": "2023-03-19T07:20:01.110356Z"
    }
   },
   "outputs": [],
   "source": [
    "#capture frames\n",
    "capture = cv2.VideoCapture(0)\n",
    "#capture.isOpened()\n",
    "count = 0\n",
    "while capture.isOpened():\n",
    "    ret, frame = capture.read()\n",
    "    if ret:\n",
    "        cv2.imshow('LIVE', frame)\n",
    "        #img_gray = cv2.cvtColor(frame, cv2.COLOR_BGR2GRAY)\n",
    "        #img_gray=cv2.resize(img_gray, (200, 200))\n",
    "        cv2.imwrite(f'cap_frame{count}.png', frame)\n",
    "        if cv2.waitKey(1) & 0xFF == 27:\n",
    "            break\n",
    "        elif count >= 40:\n",
    "            break\n",
    "        count += 1\n",
    "    else:\n",
    "        break\n",
    "capture.release()\n",
    "cv2.destroyAllWindows()"
   ]
  },
  {
   "cell_type": "code",
   "execution_count": 10,
   "id": "7780883b",
   "metadata": {
    "ExecuteTime": {
     "end_time": "2023-03-19T06:55:32.609639Z",
     "start_time": "2023-03-19T06:55:21.771189Z"
    }
   },
   "outputs": [
    {
     "name": "stdout",
     "output_type": "stream",
     "text": [
      "Coordinates Start: 1019, 1108 End: 1286, 1375\n",
      "Coordinates Start: 1502, 510 End: 1599, 607\n",
      "Coordinates Start: 1792, 585 End: 1879, 672\n",
      "Coordinates Start: 853, 333 End: 1450, 930\n",
      "Coordinates Start: 866, 210 End: 920, 264\n",
      "Coordinates Start: 420, 2534 End: 573, 2687\n"
     ]
    },
    {
     "data": {
      "text/plain": [
       "-1"
      ]
     },
     "execution_count": 10,
     "metadata": {},
     "output_type": "execute_result"
    }
   ],
   "source": [
    "cap_frame = cv2.imread('test.jpg')\n",
    "cap_frame = cv2.cvtColor(cap_frame, cv2.COLOR_BGR2GRAY)\n",
    "faces = face_cascade.detectMultiScale(cap_frame)\n",
    "#cap_frame = cv2.resize(cap_frame, (500, 500))\n",
    "\n",
    "for (x, y, w, h) in faces:\n",
    "    cv2.rectangle(cap_frame, (x,y), (x+w, h+w), (0,0,255), 3)\n",
    "    print(f'Coordinates Start: {x}, {y} End: {x+w}, {y+h}')\n",
    "    \n",
    "cv2.imshow('face_detect', cap_frame)\n",
    "cv2.waitKey()"
   ]
  },
  {
   "cell_type": "code",
   "execution_count": null,
   "id": "a27c712c",
   "metadata": {
    "ExecuteTime": {
     "end_time": "2023-03-19T06:11:28.337822Z",
     "start_time": "2023-03-19T06:10:55.950596Z"
    },
    "scrolled": false
   },
   "outputs": [],
   "source": [
    "#detect face in video\n",
    "capture = cv2.VideoCapture(0)\n",
    "#capture.isOpened()\n",
    "while capture.isOpened():\n",
    "    ret, frame = capture.read()\n",
    "    if ret:\n",
    "        faces = face_cascade.detectMultiScale(frame, 1.1, 8)\n",
    "\n",
    "    for (x, y, w, h) in faces:\n",
    "        cv2.rectangle(frame, (x,y), (x+w, h+w), (0,0,255), 3)\n",
    "        print(f'Coordinates Start: {x}, {y} End: {x+w}, {y+h}')\n",
    "    cv2.imshow('detect', frame)\n",
    "    if cv2.waitKey(1) & 0xFF == 27:\n",
    "            break\n",
    "capture.release()\n",
    "cv2.destroyAllWindows()"
   ]
  },
  {
   "cell_type": "code",
   "execution_count": 13,
   "id": "1e78229f",
   "metadata": {
    "ExecuteTime": {
     "end_time": "2023-03-19T07:34:05.944285Z",
     "start_time": "2023-03-19T07:33:51.974688Z"
    }
   },
   "outputs": [],
   "source": [
    "#crop image using coordinates from haar cascade\n",
    "\n",
    "cap_frame = cv2.imread('cap_frame20.png')\n",
    "cap_frame_gray = cv2.cvtColor(cap_frame, cv2.COLOR_BGR2GRAY)\n",
    "faces = face_cascade.detectMultiScale(cap_frame_gray)\n",
    "\n",
    "for x, y, w, h in faces:\n",
    "    x1 = x + w\n",
    "    y1 = y + h\n",
    "    crop_img = cap_frame[y:y1, x:x1]\n",
    "    cv2.imshow('cropped', crop_img)\n",
    "    cv2.waitKey()\n",
    "\n",
    "cv2.destroyAllWindows()"
   ]
  },
  {
   "cell_type": "markdown",
   "id": "7908e2cc",
   "metadata": {},
   "source": [
    "# store image in a database"
   ]
  },
  {
   "cell_type": "code",
   "execution_count": 9,
   "id": "61229195",
   "metadata": {
    "ExecuteTime": {
     "end_time": "2023-03-19T09:12:09.838008Z",
     "start_time": "2023-03-19T09:12:09.826000Z"
    }
   },
   "outputs": [],
   "source": [
    "import cv2\n",
    "import numpy as np\n",
    "import pandas as pd\n",
    "import sqlite3\n",
    "from matplotlib import pyplot as plt"
   ]
  },
  {
   "cell_type": "code",
   "execution_count": 10,
   "id": "a69fb1d0",
   "metadata": {
    "ExecuteTime": {
     "end_time": "2023-03-19T09:12:10.641203Z",
     "start_time": "2023-03-19T09:12:10.573387Z"
    }
   },
   "outputs": [],
   "source": [
    "face_cascade = cv2.CascadeClassifier('haarcascade_frontalface_default.xml')"
   ]
  },
  {
   "cell_type": "code",
   "execution_count": 11,
   "id": "8bd15e6c",
   "metadata": {
    "ExecuteTime": {
     "end_time": "2023-03-19T09:12:11.565130Z",
     "start_time": "2023-03-19T09:12:11.316513Z"
    }
   },
   "outputs": [],
   "source": [
    "conn = sqlite3.connect('frame_db')\n",
    "cursor = conn.cursor()\n",
    "cursor.execute('CREATE TABLE frame_db(count INTEGER, frame BLOB)')\n",
    "conn.commit()\n",
    "cursor.close()\n",
    "conn.close() "
   ]
  },
  {
   "cell_type": "code",
   "execution_count": 14,
   "id": "4794238b",
   "metadata": {
    "ExecuteTime": {
     "end_time": "2023-03-19T09:13:02.436917Z",
     "start_time": "2023-03-19T09:13:02.421995Z"
    }
   },
   "outputs": [],
   "source": [
    "#create database\n",
    "\n",
    "def convert_to_binary(filename):\n",
    "    with open(filename, 'rb') as file:\n",
    "        blob = file.read()\n",
    "        print('file converted')\n",
    "    return blob\n",
    "\n",
    "def inset_frame(count, frame):\n",
    "    try:\n",
    "        conn = sqlite3.connect('frame_db')\n",
    "        cursor = conn.cursor()\n",
    "        print('connected')\n",
    "        \n",
    "        frame_insert_query = cursor.execute(f\"\"\"INSERT INTO frame_db(count, frame) VALUES(?, ?)\"\"\")\n",
    "        blob_frame = convert_to_binary(frame)\n",
    "        data_tuple = (count, blob_frame)\n",
    "        cursor.execute(frame_insert_query, data_tuple)\n",
    "        print('file stored')\n",
    "        \n",
    "        conn.commit()\n",
    "        cursor.close()\n",
    "    except:\n",
    "        pass\n",
    "    finally:\n",
    "        if conn:\n",
    "            conn.close()"
   ]
  },
  {
   "cell_type": "code",
   "execution_count": 15,
   "id": "3861692d",
   "metadata": {
    "ExecuteTime": {
     "end_time": "2023-03-19T09:13:08.500099Z",
     "start_time": "2023-03-19T09:13:02.892736Z"
    }
   },
   "outputs": [
    {
     "name": "stdout",
     "output_type": "stream",
     "text": [
      "connected\n",
      "connected\n",
      "connected\n",
      "connected\n",
      "connected\n",
      "connected\n",
      "connected\n",
      "connected\n",
      "connected\n",
      "connected\n",
      "connected\n",
      "connected\n",
      "connected\n",
      "connected\n",
      "connected\n",
      "connected\n",
      "connected\n",
      "connected\n",
      "connected\n",
      "connected\n",
      "connected\n",
      "connected\n",
      "connected\n",
      "connected\n",
      "connected\n",
      "connected\n",
      "connected\n",
      "connected\n",
      "connected\n",
      "connected\n",
      "connected\n",
      "connected\n",
      "connected\n",
      "connected\n",
      "connected\n",
      "connected\n",
      "connected\n",
      "connected\n",
      "connected\n",
      "connected\n",
      "connected\n",
      "connected\n",
      "connected\n",
      "connected\n",
      "connected\n",
      "connected\n",
      "connected\n",
      "connected\n",
      "connected\n",
      "connected\n",
      "connected\n",
      "connected\n",
      "connected\n",
      "connected\n",
      "connected\n",
      "connected\n",
      "connected\n",
      "connected\n",
      "connected\n",
      "connected\n",
      "connected\n",
      "connected\n",
      "connected\n",
      "connected\n",
      "connected\n",
      "connected\n",
      "connected\n",
      "connected\n",
      "connected\n",
      "connected\n",
      "connected\n",
      "connected\n",
      "connected\n",
      "connected\n",
      "connected\n",
      "connected\n",
      "connected\n",
      "connected\n",
      "connected\n",
      "connected\n",
      "connected\n",
      "connected\n",
      "connected\n",
      "connected\n",
      "connected\n",
      "connected\n",
      "connected\n",
      "connected\n",
      "connected\n",
      "connected\n",
      "connected\n",
      "connected\n",
      "connected\n",
      "connected\n",
      "connected\n",
      "connected\n",
      "connected\n"
     ]
    }
   ],
   "source": [
    "capture = cv2.VideoCapture(0)\n",
    "count = 0\n",
    "while capture.isOpened():\n",
    "    ret, frame = capture.read()\n",
    "    if ret:\n",
    "        cv2.imshow('LIVE', frame)\n",
    "        inset_frame(count, frame)\n",
    "        \n",
    "        if cv2.waitKey(1) & 0xFF == 27:\n",
    "            break\n",
    "        count += 1\n",
    "    else:\n",
    "        break\n",
    "capture.release()\n",
    "cv2.destroyAllWindows()"
   ]
  },
  {
   "cell_type": "code",
   "execution_count": 20,
   "id": "1e7cd6f4",
   "metadata": {
    "ExecuteTime": {
     "end_time": "2023-03-19T09:40:17.220560Z",
     "start_time": "2023-03-19T09:40:17.188644Z"
    }
   },
   "outputs": [
    {
     "data": {
      "text/plain": [
       "b'<\\xd1\\x88\\x1c4J 0\\x13\\xc5<\\xf5\\xf6\\x05\\x19\\x93\\xcdH\\xac:\\xa8?\\xc9\\xf4\\x8a<\\x8d\\x80(u\\x042\\xac\\xd8z\\x9c 0\\xd2\\x06\\xb8\\x0f\\xe9Bz%\\xc2z\\xeb\\xf4\\xb0\\xd8R\"\\xfd\\x1eW\\x0c\\xd6\\xc7 ;G\\r\\x15\\xcd,P\\x8fi\\xb1\\xfeka\\xc1u.\\xb4\\x8ejJ\\xdczS\\xbe\\xee\\xe6\\x1e\\x9b\\xfd\\xbb&7I\\xca\\xef\\xff\\n\\x10\\xce\\xf3iF\\xf7\\x87:\\xbf\\xca\\xe8\\xe1\\xe2\\xbct\\x12\\x99iM\\x15B\\x04\\x94\\xc0\\xdfA\\xc6\\x14m\\xa5D\\xa9\\xb8\\xf4W\\xdf\\xe7Nt\\x93\\xe4\\x7f\\xe4\\x9a}\\x89Q\\xf0\\x08\\x9e\\xfd\\xc8H\\x03G\\xe6\\xb9\\x08\\xab\\x0f\\x0f\\x03\\x0c0\\xbe\\x03^3\\xdajD\\xa0\\xcf&\\xfe\\xce\\xcdw\\xaf\\xc4:TN\\x8f\\xe7D\\xfa\\x01\\xa8\\x15\\x06\\xff(n\\x1e\\x91U!@8\\nc\\x03u\\xde\\xbdA\\x17C\\xbf\\xde\\xaaG\\x925\\x12T\\xaf7MK\\x03c\\xef\\xa6d\\xb4%I\\xc7\\xa4\\x16\\xc9\\x04\\xb1]u3\\x11+\\xe9\\xfc\\x0c\\x8c\\x0c\\xf6\\xd2%\\x94\\x11\\xe0n\\n9\\xbc\\xd5\\xc2eK\\x0b,\\x80\\xa6\\xaf\\xd5\\x95P]0K\\xb5,Y\\xe8\\xe0:e\\x04\\xd8qEP-`;.I\\xbf\\x91q\\x95\"<\\x8b\\xd4\\x11F\\xdff1\\x17<\\x1f9\\xa6\\x0e\\xfd\\x85\\xdc\\x13K\\x1dqg\\x0f\\x04\\x1c\\xf2\\xec\\x08\\x82\\xd2g\\xd6\\xd4\\xfd\\xfd\\x0f\\xb4\\xfa\\xb9\\xe7\\xb1\\x87QH\\xf0H\\x1d\\x15\\x90\\x00v\\xec\\xa1\\x1f\\x04\\xef\\xff\\xc0:.\\x89\\x1fr\\x03\\x1c\\x87\\xc8 sC\\xdb\\xa0\\xca\\x9a\\x12\\x08\\x97\\tSd\\xf7\\x18\\x8e~\\x0e\\xc1H\\xac\\xcd\\xd4\\x1a\\xc5\\xd7\\x82\\xa8T\\xa5\\xd0\\xfdB\\xdd\\xc0G,\\x1d@\\xd2\\xa4O4\\x11\\xef\\xdc\\x01\\t\\x053H2\\xfd\\xbf\\xca<\\x1cQ\\xcao\\xc1I\\x93\\x05\\xc1'"
      ]
     },
     "execution_count": 20,
     "metadata": {},
     "output_type": "execute_result"
    }
   ],
   "source": [
    "import base64\n",
    "img = cv2.imread('cap_frame0.png')\n",
    "with open('cap_frame0.png', 'rb') as f:\n",
    "    bina = base64.b64decode(f.read())\n",
    "bina"
   ]
  },
  {
   "cell_type": "code",
   "execution_count": null,
   "id": "f27d70d7",
   "metadata": {},
   "outputs": [],
   "source": []
  }
 ],
 "metadata": {
  "kernelspec": {
   "display_name": "mlenv",
   "language": "python",
   "name": "mlenv"
  },
  "language_info": {
   "codemirror_mode": {
    "name": "ipython",
    "version": 3
   },
   "file_extension": ".py",
   "mimetype": "text/x-python",
   "name": "python",
   "nbconvert_exporter": "python",
   "pygments_lexer": "ipython3",
   "version": "3.9.12"
  },
  "varInspector": {
   "cols": {
    "lenName": 16,
    "lenType": 16,
    "lenVar": 40
   },
   "kernels_config": {
    "python": {
     "delete_cmd_postfix": "",
     "delete_cmd_prefix": "del ",
     "library": "var_list.py",
     "varRefreshCmd": "print(var_dic_list())"
    },
    "r": {
     "delete_cmd_postfix": ") ",
     "delete_cmd_prefix": "rm(",
     "library": "var_list.r",
     "varRefreshCmd": "cat(var_dic_list()) "
    }
   },
   "types_to_exclude": [
    "module",
    "function",
    "builtin_function_or_method",
    "instance",
    "_Feature"
   ],
   "window_display": false
  }
 },
 "nbformat": 4,
 "nbformat_minor": 5
}
