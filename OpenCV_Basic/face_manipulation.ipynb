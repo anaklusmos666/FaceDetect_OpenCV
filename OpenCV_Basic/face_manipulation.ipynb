{
 "cells": [
  {
   "cell_type": "code",
   "execution_count": 2,
   "id": "3b3b2033",
   "metadata": {
    "ExecuteTime": {
     "end_time": "2023-03-19T16:03:19.033272Z",
     "start_time": "2023-03-19T16:03:19.021227Z"
    }
   },
   "outputs": [],
   "source": [
    "import numpy as np\n",
    "import cv2\n",
    "import sqlite3\n",
    "import pandas as pd\n",
    "from matplotlib import pyplot as plt"
   ]
  },
  {
   "cell_type": "code",
   "execution_count": 15,
   "id": "f1de16c2",
   "metadata": {
    "ExecuteTime": {
     "end_time": "2023-03-19T16:32:53.593000Z",
     "start_time": "2023-03-19T16:32:53.562085Z"
    }
   },
   "outputs": [],
   "source": [
    "class face_detect:\n",
    "    def __init__(self, img_name, show_img=True):\n",
    "        self.face_cascade = cv2.CascadeClassifier('haarcascade_frontalface_default.xml')\n",
    "        #self.img_name = img_name\n",
    "        #self.show_img = show_img\n",
    "    \n",
    "    def capture_frame(self):\n",
    "        capture = cv2.VideoCapture(0)\n",
    "        count = 0\n",
    "        while capture.isOpened():\n",
    "            ret, frame = capture.read()\n",
    "            if ret:\n",
    "                cv2.imshow('LIVE', frame)\n",
    "                cv2.imwrite(f'captured_frame{count}.png', frame)\n",
    "                if cv2.waitKey(1) & 0xFF == 27:\n",
    "                    break\n",
    "                elif count >= 40:\n",
    "                    break\n",
    "                count += 1\n",
    "            else:\n",
    "                break\n",
    "        capture.release()\n",
    "        cv2.destroyAllWindows()\n",
    "        \n",
    "    def detect_face(self):\n",
    "        face_cascade = cv2.CascadeClassifier('haarcascade_frontalface_default.xml')\n",
    "        \n",
    "        img = cv2.imread(self.img_name)\n",
    "        img_gray = cv2.cvtColor(img, cv2.COLOR_BGR2GRAY)\n",
    "        faces = face_cascade.detectMultiScale(img_gray)\n",
    "        \n",
    "        x, y, x1, y1 = list(), list(), list(), list()\n",
    "        for x, y, w, h in faces:\n",
    "            cv2.rectangle(img, (x,y), (x+w, h+w), (0,0,255), 3)\n",
    "            #x.append(x)\n",
    "            #y.append(y)\n",
    "            #x1.append(x+w)\n",
    "            #y1.append(y+h)\n",
    "            return x, y, w, h\n",
    "        if self.show_img:\n",
    "            cv2.imshow('face_detect', img)\n",
    "            cv2.waitKey()\n",
    "        \n",
    "        def crop_image(self):\n",
    "            img = cv2.imread(self.img_name)\n",
    "            \n",
    "            for i in range(len(x)):\n",
    "                crop_img = img[y[i]:y1[i], x[i]:x1[i]]\n",
    "                cv2.imwrite(f'cropped{i}', crop_image)"
   ]
  },
  {
   "cell_type": "code",
   "execution_count": 20,
   "id": "96aead74",
   "metadata": {
    "ExecuteTime": {
     "end_time": "2023-03-19T16:37:27.337595Z",
     "start_time": "2023-03-19T16:37:27.316652Z"
    }
   },
   "outputs": [],
   "source": [
    "def capture_frame():\n",
    "    capture = cv2.VideoCapture(0)\n",
    "    count = 0\n",
    "    while capture.isOpened():\n",
    "        ret, frame = capture.read()\n",
    "        if ret:\n",
    "            cv2.imshow('LIVE', frame)\n",
    "            cv2.imwrite(f'captured_frame{count}.png', frame)\n",
    "            if cv2.waitKey(1) & 0xFF == 27:\n",
    "                break\n",
    "            elif count >= 40:\n",
    "                break\n",
    "            count += 1\n",
    "        else:\n",
    "            break\n",
    "    capture.release()\n",
    "    cv2.destroyAllWindows()"
   ]
  },
  {
   "cell_type": "code",
   "execution_count": 21,
   "id": "ec31ea53",
   "metadata": {
    "ExecuteTime": {
     "end_time": "2023-03-19T16:48:03.895091Z",
     "start_time": "2023-03-19T16:48:03.874149Z"
    }
   },
   "outputs": [],
   "source": [
    "def detect_face(capture=True, frame=None, show_img=True):\n",
    "    if capture == True:\n",
    "        capture_frame()\n",
    "        face_cascade = cv2.CascadeClassifier('haarcascade_frontalface_default.xml')\n",
    "        filename = 'captured_frame' + str(frame) + '.png'\n",
    "        img = cv2.imread(filename)\n",
    "\n",
    "        img_gray = cv2.cvtColor(img, cv2.COLOR_BGR2GRAY)\n",
    "        faces = face_cascade.detectMultiScale(img_gray)\n",
    "\n",
    "        for x, y, w, h in faces:\n",
    "            cv2.rectangle(img, (x, y), (x + w, h + w), (0, 0, 255), 3)\n",
    "        if show_img == True:\n",
    "            cv2.imshow('face_detect', img)\n",
    "            cv2.waitKey()\n",
    "        else:\n",
    "            pass\n",
    "        return faces\n",
    "    else:\n",
    "        face_cascade = cv2.CascadeClassifier('haarcascade_frontalface_default.xml')\n",
    "        filename = 'captured_frame' + str(frame) + '.png'\n",
    "        img = cv2.imread(filename)\n",
    "        img_gray = cv2.cvtColor(img, cv2.COLOR_BGR2GRAY)\n",
    "        faces = face_cascade.detectMultiScale(img_gray)\n",
    "\n",
    "        for x, y, w, h in faces:\n",
    "            cv2.rectangle(img, (x, y), (x + w, h + w), (0, 0, 255), 3)\n",
    "        if self.show_img:\n",
    "            cv2.imshow('face_detect', img)\n",
    "            cv2.waitKey()\n",
    "        return faces"
   ]
  },
  {
   "cell_type": "code",
   "execution_count": 22,
   "id": "b45565f8",
   "metadata": {
    "ExecuteTime": {
     "end_time": "2023-03-19T16:52:59.078078Z",
     "start_time": "2023-03-19T16:52:59.060126Z"
    }
   },
   "outputs": [],
   "source": [
    "def crop_face(frame, coords):\n",
    "    filename = 'captured_frame' + str(frame) + '.png'\n",
    "    img = cv2.imread(filename)\n",
    "    \n",
    "    i=0\n",
    "    for x, y, w, h in coords:\n",
    "        crop_img = img[y:(y+h), x:(x+w)]\n",
    "        cv2.imwrite(f'cropped{i}', crop_img)"
   ]
  },
  {
   "cell_type": "code",
   "execution_count": null,
   "id": "70b940ea",
   "metadata": {
    "ExecuteTime": {
     "start_time": "2023-03-19T16:53:35.304Z"
    }
   },
   "outputs": [],
   "source": [
    "detect_face(capture=True, frame=10, show_img=True)"
   ]
  },
  {
   "cell_type": "code",
   "execution_count": null,
   "id": "827ac74b",
   "metadata": {},
   "outputs": [],
   "source": []
  }
 ],
 "metadata": {
  "kernelspec": {
   "display_name": "mlenv",
   "language": "python",
   "name": "mlenv"
  },
  "language_info": {
   "codemirror_mode": {
    "name": "ipython",
    "version": 3
   },
   "file_extension": ".py",
   "mimetype": "text/x-python",
   "name": "python",
   "nbconvert_exporter": "python",
   "pygments_lexer": "ipython3",
   "version": "3.9.12"
  },
  "varInspector": {
   "cols": {
    "lenName": 16,
    "lenType": 16,
    "lenVar": 40
   },
   "kernels_config": {
    "python": {
     "delete_cmd_postfix": "",
     "delete_cmd_prefix": "del ",
     "library": "var_list.py",
     "varRefreshCmd": "print(var_dic_list())"
    },
    "r": {
     "delete_cmd_postfix": ") ",
     "delete_cmd_prefix": "rm(",
     "library": "var_list.r",
     "varRefreshCmd": "cat(var_dic_list()) "
    }
   },
   "types_to_exclude": [
    "module",
    "function",
    "builtin_function_or_method",
    "instance",
    "_Feature"
   ],
   "window_display": false
  }
 },
 "nbformat": 4,
 "nbformat_minor": 5
}
