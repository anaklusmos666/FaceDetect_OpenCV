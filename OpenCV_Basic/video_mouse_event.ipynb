{
 "cells": [
  {
   "cell_type": "code",
   "execution_count": 1,
   "id": "6e9b2548",
   "metadata": {
    "ExecuteTime": {
     "end_time": "2023-03-19T03:21:40.657328Z",
     "start_time": "2023-03-19T03:21:39.944403Z"
    }
   },
   "outputs": [],
   "source": [
    "import numpy as np\n",
    "import cv2\n",
    "import pandas as pd\n",
    "import datetime"
   ]
  },
  {
   "cell_type": "code",
   "execution_count": null,
   "id": "f82a34cf",
   "metadata": {
    "ExecuteTime": {
     "start_time": "2023-03-18T05:06:06.956Z"
    }
   },
   "outputs": [],
   "source": [
    "events = [i for i in dir(cv2) if 'EVENT' in i]\n",
    "print(events)"
   ]
  },
  {
   "cell_type": "code",
   "execution_count": 2,
   "id": "b7c7f0c2",
   "metadata": {
    "ExecuteTime": {
     "end_time": "2023-03-19T03:21:44.371972Z",
     "start_time": "2023-03-19T03:21:44.352064Z"
    }
   },
   "outputs": [],
   "source": [
    "#mouse call back function to read mouse events\n",
    "#x, y is the coordinates of click\n",
    "def click_event(event, x, y, flags, params):\n",
    "    if event == cv2.EVENT_LBUTTONDOWN:\n",
    "        print(x, y)\n",
    "        #coordinate = str(x)+' '+str(y)\n",
    "        #font = cv2.FONT_HERSHEY_SIMPLEX\n",
    "        #cv2.putText(img, coordinate, (x, y), font, 1, (255,255,255), 1)\n",
    "        cv2.imshow('image', img)"
   ]
  },
  {
   "cell_type": "code",
   "execution_count": null,
   "id": "e2323b3e",
   "metadata": {
    "ExecuteTime": {
     "end_time": "2023-03-19T03:08:58.642852Z",
     "start_time": "2023-03-19T03:08:49.799443Z"
    }
   },
   "outputs": [],
   "source": [
    "img = np.zeros((512, 512, 3), np.uint8)\n",
    "cv2.imshow('image', img)\n",
    "\n",
    "cv2.setMouseCallback('image', click_event)\n",
    "cv2.waitKey(0)\n",
    "cv2.destroyAllWindows()"
   ]
  },
  {
   "cell_type": "code",
   "execution_count": null,
   "id": "f28db345",
   "metadata": {
    "ExecuteTime": {
     "end_time": "2023-03-18T17:32:30.733956Z",
     "start_time": "2023-03-18T17:32:30.715005Z"
    }
   },
   "outputs": [],
   "source": [
    "#creating a drawing tool\n",
    "draw = False #left click will activate draw\n",
    "mode = True #'m' will toggle mode\n",
    "ix, iy = -1, -1 #no negative pixel is valid\n",
    "\n",
    "def draw_shape(event, x, y, flags, params):\n",
    "    global draw, mode, ix, iy\n",
    "    if event == cv2.EVENT_LBUTTONDOWN:\n",
    "        draw = True\n",
    "        ix, iy = x, y\n",
    "    \n",
    "    elif event == cv2.EVENT_MOUSEMOVE:\n",
    "        if draw == True:\n",
    "            if mode == True:\n",
    "                cv2.rectangle(img, (ix, iy), (x, y), (0,255,0), -1)\n",
    "            else:\n",
    "                cv2.circle(img, (x,y), 5, (0,0,255), -1)\n",
    "    \n",
    "    elif event == cv2.EVENT_LBUTTONUP:\n",
    "        draw = False\n",
    "        if mode == True:\n",
    "            cv2.rectangle(img, (ix, iy), (x, y), (0,255,0), -1)\n",
    "        else:\n",
    "            cv2.circle(img, (x,y), 5, (0,0,255), -1)"
   ]
  },
  {
   "cell_type": "code",
   "execution_count": null,
   "id": "9bf8ac73",
   "metadata": {
    "ExecuteTime": {
     "end_time": "2023-03-18T17:37:18.270126Z",
     "start_time": "2023-03-18T17:36:37.134663Z"
    }
   },
   "outputs": [],
   "source": [
    "img = cv2.imread('catto.jpg')\n",
    "cv2.namedWindow('catto')\n",
    "cv2.setMouseCallback('catto', draw_shape)\n",
    "\n",
    "while(1):\n",
    "    cv2.imshow('catto', img)\n",
    "    k = cv2.waitKey(1) & 0xFF\n",
    "    if k == ord('m'):\n",
    "        mode = not mode\n",
    "    elif k == 27:\n",
    "        break\n",
    "\n",
    "cv2.destroyAllWindows()"
   ]
  },
  {
   "cell_type": "markdown",
   "id": "6ef18679",
   "metadata": {},
   "source": [
    "# Region of Interest - ROI"
   ]
  },
  {
   "cell_type": "code",
   "execution_count": 4,
   "id": "80fd9eed",
   "metadata": {
    "ExecuteTime": {
     "end_time": "2023-03-19T03:26:20.847456Z",
     "start_time": "2023-03-19T03:26:04.385009Z"
    }
   },
   "outputs": [
    {
     "name": "stdout",
     "output_type": "stream",
     "text": [
      "715 293\n",
      "1280 679\n",
      "34 47\n",
      "453 331\n"
     ]
    }
   ],
   "source": [
    "img = cv2.imread('turtle.jpg')\n",
    "cv2.namedWindow('image')\n",
    "cv2.setMouseCallback('image', click_event)\n",
    "\n",
    "while (1):\n",
    "    cv2.imshow('image', img)\n",
    "    k = cv2.waitKey(1) & 0xFF\n",
    "    if k == 27:\n",
    "        break\n",
    "cv2.destroyAllWindows()"
   ]
  },
  {
   "cell_type": "code",
   "execution_count": 17,
   "id": "0ff55710",
   "metadata": {
    "ExecuteTime": {
     "end_time": "2023-03-19T04:00:14.834523Z",
     "start_time": "2023-03-19T04:00:14.760722Z"
    }
   },
   "outputs": [
    {
     "ename": "ValueError",
     "evalue": "could not broadcast input array from shape (386,565,3) into shape (386,478,3)",
     "output_type": "error",
     "traceback": [
      "\u001b[1;31m---------------------------------------------------------------------------\u001b[0m",
      "\u001b[1;31mValueError\u001b[0m                                Traceback (most recent call last)",
      "Input \u001b[1;32mIn [17]\u001b[0m, in \u001b[0;36m<cell line: 8>\u001b[1;34m()\u001b[0m\n\u001b[0;32m      6\u001b[0m image \u001b[38;5;241m=\u001b[39m np\u001b[38;5;241m.\u001b[39mzeros((\u001b[38;5;241m512\u001b[39m, \u001b[38;5;241m512\u001b[39m, \u001b[38;5;241m3\u001b[39m), np\u001b[38;5;241m.\u001b[39muint8)\n\u001b[0;32m      7\u001b[0m ROI \u001b[38;5;241m=\u001b[39m img[\u001b[38;5;241m293\u001b[39m:\u001b[38;5;241m679\u001b[39m, \u001b[38;5;241m715\u001b[39m:\u001b[38;5;241m1280\u001b[39m]  \u001b[38;5;66;03m#must be y1:y2, x1:x2 format\u001b[39;00m\n\u001b[1;32m----> 8\u001b[0m image[\u001b[38;5;241m47\u001b[39m:\u001b[38;5;241m433\u001b[39m, \u001b[38;5;241m34\u001b[39m:\u001b[38;5;241m599\u001b[39m] \u001b[38;5;241m=\u001b[39m ROI  \u001b[38;5;66;03m#the pixel defferences must be same\u001b[39;00m\n\u001b[0;32m     10\u001b[0m cv2\u001b[38;5;241m.\u001b[39mimshow(\u001b[38;5;124m'\u001b[39m\u001b[38;5;124mimage\u001b[39m\u001b[38;5;124m'\u001b[39m, image)\n\u001b[0;32m     11\u001b[0m cv2\u001b[38;5;241m.\u001b[39mwaitKey(\u001b[38;5;241m0\u001b[39m)\n",
      "\u001b[1;31mValueError\u001b[0m: could not broadcast input array from shape (386,565,3) into shape (386,478,3)"
     ]
    }
   ],
   "source": [
    "img = cv2.imread('turtle.jpg')\n",
    "\n",
    "b, g, r = cv2.split(img)\n",
    "img = cv2.merge((b, g, r))\n",
    "\n",
    "image = np.zeros((512, 512, 3), np.uint8)\n",
    "ROI = img[293:679, 715:1280]  #must be y1:y2, x1:x2 format\n",
    "image[47:433, 34:599] = ROI  #the pixel defferences must be same\n",
    "\n",
    "cv2.imshow('image', image)\n",
    "cv2.waitKey(0)\n",
    "cv2.destroyAllWindows()"
   ]
  },
  {
   "cell_type": "code",
   "execution_count": null,
   "id": "1c66eb80",
   "metadata": {},
   "outputs": [],
   "source": []
  }
 ],
 "metadata": {
  "kernelspec": {
   "display_name": "mlenv",
   "language": "python",
   "name": "mlenv"
  },
  "language_info": {
   "codemirror_mode": {
    "name": "ipython",
    "version": 3
   },
   "file_extension": ".py",
   "mimetype": "text/x-python",
   "name": "python",
   "nbconvert_exporter": "python",
   "pygments_lexer": "ipython3",
   "version": "3.9.12"
  },
  "varInspector": {
   "cols": {
    "lenName": 16,
    "lenType": 16,
    "lenVar": 40
   },
   "kernels_config": {
    "python": {
     "delete_cmd_postfix": "",
     "delete_cmd_prefix": "del ",
     "library": "var_list.py",
     "varRefreshCmd": "print(var_dic_list())"
    },
    "r": {
     "delete_cmd_postfix": ") ",
     "delete_cmd_prefix": "rm(",
     "library": "var_list.r",
     "varRefreshCmd": "cat(var_dic_list()) "
    }
   },
   "types_to_exclude": [
    "module",
    "function",
    "builtin_function_or_method",
    "instance",
    "_Feature"
   ],
   "window_display": false
  }
 },
 "nbformat": 4,
 "nbformat_minor": 5
}
