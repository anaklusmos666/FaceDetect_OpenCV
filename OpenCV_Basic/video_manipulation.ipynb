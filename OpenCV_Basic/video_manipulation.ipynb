{
 "cells": [
  {
   "cell_type": "code",
   "execution_count": 1,
   "id": "eb7103a7",
   "metadata": {
    "ExecuteTime": {
     "end_time": "2023-03-19T05:11:44.652280Z",
     "start_time": "2023-03-19T05:11:41.156277Z"
    }
   },
   "outputs": [],
   "source": [
    "import cv2\n",
    "import numpy as np\n",
    "import pandas as pd\n",
    "import matplotlib.pyplot as plt\n",
    "import datetime"
   ]
  },
  {
   "cell_type": "markdown",
   "id": "48235b2a",
   "metadata": {},
   "source": [
    "# capture video"
   ]
  },
  {
   "cell_type": "code",
   "execution_count": 2,
   "id": "633541eb",
   "metadata": {
    "ExecuteTime": {
     "end_time": "2023-03-19T05:11:46.792677Z",
     "start_time": "2023-03-19T05:11:46.102960Z"
    }
   },
   "outputs": [],
   "source": [
    "#create video capture object\n",
    "capture = cv2.VideoCapture(0) #0 is camera device number\n",
    "#capture.set(3, 1366)\n",
    "#capture.set(4, 768)"
   ]
  },
  {
   "cell_type": "code",
   "execution_count": 8,
   "id": "36d27db1",
   "metadata": {
    "ExecuteTime": {
     "end_time": "2023-03-18T03:33:25.576727Z",
     "start_time": "2023-03-18T03:33:25.554752Z"
    }
   },
   "outputs": [],
   "source": [
    "#output & codec\n",
    "fourcc = cv2.VideoWriter_fourcc(*'XVID')\n",
    "out = cv2.VideoWriter('capture.mp4', fourcc, 20.0, (640, 480))"
   ]
  },
  {
   "cell_type": "code",
   "execution_count": 3,
   "id": "14b2039d",
   "metadata": {
    "ExecuteTime": {
     "end_time": "2023-03-19T05:11:51.924769Z",
     "start_time": "2023-03-19T05:11:51.911804Z"
    }
   },
   "outputs": [
    {
     "data": {
      "text/plain": [
       "True"
      ]
     },
     "execution_count": 3,
     "metadata": {},
     "output_type": "execute_result"
    }
   ],
   "source": [
    "capture.isOpened()"
   ]
  },
  {
   "cell_type": "code",
   "execution_count": 10,
   "id": "92e56a7b",
   "metadata": {
    "ExecuteTime": {
     "end_time": "2023-03-18T03:33:39.193726Z",
     "start_time": "2023-03-18T03:33:26.682766Z"
    }
   },
   "outputs": [],
   "source": [
    "while capture.isOpened():\n",
    "    ret, frame = capture.read()\n",
    "    #ret is bool value. returnes True if frame avaiable\n",
    "    #frame is image vector\n",
    "    if ret == True:\n",
    "        #print(capture.get(cv2.CAP_PROP_FRAME_WIDTH))\n",
    "        #print(capture.get(cv2.CAP_PROP_FRAME_HEIGHT))\n",
    "    \n",
    "        #covert the frames into gray scale\n",
    "        frame_gray = cv2.cvtColor(frame, cv2.COLOR_BGR2GRAY)\n",
    "        \n",
    "        #write video\n",
    "        out.write(frame)\n",
    "    \n",
    "        #display frame\n",
    "        cv2.imshow('captured frame', frame_gray)\n",
    "        if cv2.waitKey(1) & 0XFF == ord('q'):\n",
    "            break\n",
    "    else:\n",
    "        break\n",
    "\n",
    "capture.release() #release connection\n",
    "out.release()\n",
    "cv2.destroyAllWindows()"
   ]
  },
  {
   "cell_type": "code",
   "execution_count": 4,
   "id": "6ed65e52",
   "metadata": {
    "ExecuteTime": {
     "end_time": "2023-03-19T05:12:24.263014Z",
     "start_time": "2023-03-19T05:11:55.383677Z"
    }
   },
   "outputs": [],
   "source": [
    "#showing date and time on captured video\n",
    "frame_count = 0\n",
    "while capture.isOpened():\n",
    "    ret, frame = capture.read()\n",
    "    if ret == True:\n",
    "        frame_count += 1\n",
    "        font = cv2.FONT_HERSHEY_DUPLEX\n",
    "        #text = 'Width: ' + str(capture.get(3)) + ' Height: ' + str(capture.get(4))\n",
    "        date = str(datetime.datetime.now())\n",
    "        text = str(date)+str(frame_count)\n",
    "        frame = cv2.putText(frame, text, (10,50), font, 0.5, (0,0,0), 1, cv2.LINE_AA)  #to show text\n",
    "        cv2.imshow('LIVE', frame)\n",
    "        \n",
    "        #print(capture.get(3), capture.get(4))\n",
    "        \n",
    "        if cv2.waitKey(1) & 0xFF == ord('q'):\n",
    "            break\n",
    "    else:\n",
    "        break\n",
    "capture.release()\n",
    "cv2.destroyAllWindows()"
   ]
  },
  {
   "cell_type": "code",
   "execution_count": null,
   "id": "73b41b2d",
   "metadata": {},
   "outputs": [],
   "source": []
  }
 ],
 "metadata": {
  "kernelspec": {
   "display_name": "mlenv",
   "language": "python",
   "name": "mlenv"
  },
  "language_info": {
   "codemirror_mode": {
    "name": "ipython",
    "version": 3
   },
   "file_extension": ".py",
   "mimetype": "text/x-python",
   "name": "python",
   "nbconvert_exporter": "python",
   "pygments_lexer": "ipython3",
   "version": "3.9.12"
  },
  "varInspector": {
   "cols": {
    "lenName": 16,
    "lenType": 16,
    "lenVar": 40
   },
   "kernels_config": {
    "python": {
     "delete_cmd_postfix": "",
     "delete_cmd_prefix": "del ",
     "library": "var_list.py",
     "varRefreshCmd": "print(var_dic_list())"
    },
    "r": {
     "delete_cmd_postfix": ") ",
     "delete_cmd_prefix": "rm(",
     "library": "var_list.r",
     "varRefreshCmd": "cat(var_dic_list()) "
    }
   },
   "types_to_exclude": [
    "module",
    "function",
    "builtin_function_or_method",
    "instance",
    "_Feature"
   ],
   "window_display": false
  }
 },
 "nbformat": 4,
 "nbformat_minor": 5
}
